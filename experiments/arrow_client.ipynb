{
 "cells": [
  {
   "cell_type": "markdown",
   "metadata": {},
   "source": [
    "# Nodes"
   ]
  },
  {
   "cell_type": "code",
   "execution_count": 2,
   "metadata": {},
   "outputs": [],
   "source": [
    "import time\n",
    "import torch as th\n",
    "th.set_num_threads(1)\n",
    "import syft as sy\n",
    "from syft.grid.clients.data_centric_fl_client import DataCentricFLClient\n",
    "hook = sy.TorchHook(th)\n",
    "alice = DataCentricFLClient(hook, \"ws://localhost:7600\")\n",
    "bob = DataCentricFLClient(hook, \"ws://localhost:7601\")\n",
    "my_grid = sy.PrivateGridNetwork(alice,bob)"
   ]
  },
  {
   "cell_type": "code",
   "execution_count": 3,
   "metadata": {},
   "outputs": [],
   "source": [
    "import argparse\n",
    "import ast\n",
    "import threading\n",
    "import time\n",
    "\n",
    "import pyarrow\n",
    "import pyarrow.flight\n",
    "import pyarrow.csv as csv"
   ]
  },
  {
   "cell_type": "code",
   "execution_count": 4,
   "metadata": {},
   "outputs": [],
   "source": [
    "def list_flights(args, client, connection_args={}):\n",
    "    print('Flights\\n=======')\n",
    "    for flight in client.list_flights():\n",
    "        descriptor = flight.descriptor\n",
    "        if descriptor.descriptor_type == pyarrow.flight.DescriptorType.PATH:\n",
    "            print(\"Path:\", descriptor.path)\n",
    "        elif descriptor.descriptor_type == pyarrow.flight.DescriptorType.CMD:\n",
    "            print(\"Command:\", descriptor.command)\n",
    "        else:\n",
    "            print(\"Unknown descriptor type\")\n",
    "\n",
    "        print(\"Total records:\", end=\" \")\n",
    "        if flight.total_records >= 0:\n",
    "            print(flight.total_records)\n",
    "        else:\n",
    "            print(\"Unknown\")\n",
    "\n",
    "        print(\"Total bytes:\", end=\" \")\n",
    "        if flight.total_bytes >= 0:\n",
    "            print(flight.total_bytes)\n",
    "        else:\n",
    "            print(\"Unknown\")\n",
    "\n",
    "        print(\"Number of endpoints:\", len(flight.endpoints))\n",
    "        print(\"Schema:\")\n",
    "        print(flight.schema)\n",
    "        print('---')\n",
    "\n",
    "    print('\\nActions\\n=======')\n",
    "    for action in client.list_actions():\n",
    "        print(\"Type:\", action.type)\n",
    "        print(\"Description:\", action.description)\n",
    "        print('---')\n",
    "\n",
    "\n",
    "def do_action(args, client, connection_args={}):\n",
    "    try:\n",
    "        buf = pyarrow.allocate_buffer(0)\n",
    "        action = pyarrow.flight.Action(args.action_type, buf)\n",
    "        print('Running action', args.action_type)\n",
    "        for result in client.do_action(action):\n",
    "            print(\"Got result\", result.body.to_pybytes())\n",
    "    except pyarrow.lib.ArrowIOError as e:\n",
    "        print(\"Error calling action:\", e)\n",
    "\n",
    "\n",
    "def push_data(args, client, connection_args={}):\n",
    "    print('File Name:', args.file)\n",
    "    my_table = csv.read_csv(args.file)\n",
    "    print('Table rows=', str(len(my_table)))\n",
    "    df = my_table.to_pandas()\n",
    "    print(df.head())\n",
    "    writer, _ = client.do_put(\n",
    "        pyarrow.flight.FlightDescriptor.for_path(args.file), my_table.schema)\n",
    "    writer.write_table(my_table)\n",
    "    writer.close()\n",
    "\n",
    "\n",
    "def get_flight(args, client, connection_args={}):\n",
    "    if args.path:\n",
    "        descriptor = pyarrow.flight.FlightDescriptor.for_path(*args.path)\n",
    "    else:\n",
    "        descriptor = pyarrow.flight.FlightDescriptor.for_command(args.command)\n",
    "\n",
    "    info = client.get_flight_info(descriptor)\n",
    "    for endpoint in info.endpoints:\n",
    "        print('Ticket:', endpoint.ticket)\n",
    "        for location in endpoint.locations:\n",
    "            print(location)\n",
    "            get_client = pyarrow.flight.FlightClient(location,\n",
    "                                                     **connection_args)\n",
    "            reader = get_client.do_get(endpoint.ticket)\n",
    "            df = reader.read_pandas()\n",
    "            print(df)"
   ]
  },
  {
   "cell_type": "code",
   "execution_count": 5,
   "metadata": {},
   "outputs": [
    {
     "name": "stdout",
     "output_type": "stream",
     "text": [
      "<pyarrow._flight.FlightClient object at 0x7fc68c7808d0>\n"
     ]
    }
   ],
   "source": [
    "scheme = \"grpc+tcp\"\n",
    "host=\"localhost\"\n",
    "port=\"7604\"\n",
    " \n",
    "client = pyarrow.flight.FlightClient(f\"{scheme}://{host}:{port}\")\n",
    "print(client)"
   ]
  },
  {
   "cell_type": "code",
   "execution_count": 6,
   "metadata": {},
   "outputs": [
    {
     "name": "stdout",
     "output_type": "stream",
     "text": [
      "<pyarrow._flight.Action object at 0x7fc68c758270>\n",
      "<pyarrow._flight.FlightCallOptions object at 0x7fc68b63c150>\n"
     ]
    },
    {
     "ename": "FlightUnavailableError",
     "evalue": "gRPC returned unavailable error, with message: failed to connect to all addresses",
     "output_type": "error",
     "traceback": [
      "\u001b[0;31m---------------------------------------------------------------------------\u001b[0m",
      "\u001b[0;31mFlightUnavailableError\u001b[0m                    Traceback (most recent call last)",
      "\u001b[0;32m<ipython-input-6-d9df05999299>\u001b[0m in \u001b[0;36m<module>\u001b[0;34m\u001b[0m\n\u001b[1;32m      3\u001b[0m \u001b[0moptions\u001b[0m \u001b[0;34m=\u001b[0m \u001b[0mpyarrow\u001b[0m\u001b[0;34m.\u001b[0m\u001b[0mflight\u001b[0m\u001b[0;34m.\u001b[0m\u001b[0mFlightCallOptions\u001b[0m\u001b[0;34m(\u001b[0m\u001b[0mtimeout\u001b[0m\u001b[0;34m=\u001b[0m\u001b[0;36m1\u001b[0m\u001b[0;34m)\u001b[0m\u001b[0;34m\u001b[0m\u001b[0;34m\u001b[0m\u001b[0m\n\u001b[1;32m      4\u001b[0m \u001b[0mprint\u001b[0m\u001b[0;34m(\u001b[0m\u001b[0moptions\u001b[0m\u001b[0;34m)\u001b[0m\u001b[0;34m\u001b[0m\u001b[0;34m\u001b[0m\u001b[0m\n\u001b[0;32m----> 5\u001b[0;31m \u001b[0mlist\u001b[0m\u001b[0;34m(\u001b[0m\u001b[0mclient\u001b[0m\u001b[0;34m.\u001b[0m\u001b[0mdo_action\u001b[0m\u001b[0;34m(\u001b[0m\u001b[0maction\u001b[0m\u001b[0;34m,\u001b[0m \u001b[0moptions\u001b[0m\u001b[0;34m=\u001b[0m\u001b[0moptions\u001b[0m\u001b[0;34m)\u001b[0m\u001b[0;34m)\u001b[0m\u001b[0;34m\u001b[0m\u001b[0;34m\u001b[0m\u001b[0m\n\u001b[0m",
      "\u001b[0;32m~/.miniconda/envs/ariann/lib/python3.8/site-packages/pyarrow/_flight.pyx\u001b[0m in \u001b[0;36mdo_action\u001b[0;34m()\u001b[0m\n",
      "\u001b[0;32m~/.miniconda/envs/ariann/lib/python3.8/site-packages/pyarrow/_flight.pyx\u001b[0m in \u001b[0;36mpyarrow._flight.check_flight_status\u001b[0;34m()\u001b[0m\n",
      "\u001b[0;31mFlightUnavailableError\u001b[0m: gRPC returned unavailable error, with message: failed to connect to all addresses"
     ]
    }
   ],
   "source": [
    "action = pyarrow.flight.Action(\"healthcheck\", b\"\")\n",
    "print(action)\n",
    "options = pyarrow.flight.FlightCallOptions(timeout=1)\n",
    "print(options)\n",
    "list(client.do_action(action, options=options))"
   ]
  },
  {
   "cell_type": "code",
   "execution_count": 7,
   "metadata": {},
   "outputs": [
    {
     "name": "stdout",
     "output_type": "stream",
     "text": [
      "Flights\n",
      "=======\n"
     ]
    },
    {
     "ename": "FlightUnavailableError",
     "evalue": "gRPC returned unavailable error, with message: failed to connect to all addresses",
     "output_type": "error",
     "traceback": [
      "\u001b[0;31m---------------------------------------------------------------------------\u001b[0m",
      "\u001b[0;31mFlightUnavailableError\u001b[0m                    Traceback (most recent call last)",
      "\u001b[0;32m<ipython-input-7-d0f99348039a>\u001b[0m in \u001b[0;36m<module>\u001b[0;34m\u001b[0m\n\u001b[0;32m----> 1\u001b[0;31m \u001b[0mlist_flights\u001b[0m\u001b[0;34m(\u001b[0m\u001b[0;34m{\u001b[0m\u001b[0;34m}\u001b[0m\u001b[0;34m,\u001b[0m \u001b[0mclient\u001b[0m\u001b[0;34m)\u001b[0m\u001b[0;34m\u001b[0m\u001b[0;34m\u001b[0m\u001b[0m\n\u001b[0m",
      "\u001b[0;32m<ipython-input-4-cbd20f0a656e>\u001b[0m in \u001b[0;36mlist_flights\u001b[0;34m(args, client, connection_args)\u001b[0m\n\u001b[1;32m      1\u001b[0m \u001b[0;32mdef\u001b[0m \u001b[0mlist_flights\u001b[0m\u001b[0;34m(\u001b[0m\u001b[0margs\u001b[0m\u001b[0;34m,\u001b[0m \u001b[0mclient\u001b[0m\u001b[0;34m,\u001b[0m \u001b[0mconnection_args\u001b[0m\u001b[0;34m=\u001b[0m\u001b[0;34m{\u001b[0m\u001b[0;34m}\u001b[0m\u001b[0;34m)\u001b[0m\u001b[0;34m:\u001b[0m\u001b[0;34m\u001b[0m\u001b[0;34m\u001b[0m\u001b[0m\n\u001b[1;32m      2\u001b[0m     \u001b[0mprint\u001b[0m\u001b[0;34m(\u001b[0m\u001b[0;34m'Flights\\n======='\u001b[0m\u001b[0;34m)\u001b[0m\u001b[0;34m\u001b[0m\u001b[0;34m\u001b[0m\u001b[0m\n\u001b[0;32m----> 3\u001b[0;31m     \u001b[0;32mfor\u001b[0m \u001b[0mflight\u001b[0m \u001b[0;32min\u001b[0m \u001b[0mclient\u001b[0m\u001b[0;34m.\u001b[0m\u001b[0mlist_flights\u001b[0m\u001b[0;34m(\u001b[0m\u001b[0;34m)\u001b[0m\u001b[0;34m:\u001b[0m\u001b[0;34m\u001b[0m\u001b[0;34m\u001b[0m\u001b[0m\n\u001b[0m\u001b[1;32m      4\u001b[0m         \u001b[0mdescriptor\u001b[0m \u001b[0;34m=\u001b[0m \u001b[0mflight\u001b[0m\u001b[0;34m.\u001b[0m\u001b[0mdescriptor\u001b[0m\u001b[0;34m\u001b[0m\u001b[0;34m\u001b[0m\u001b[0m\n\u001b[1;32m      5\u001b[0m         \u001b[0;32mif\u001b[0m \u001b[0mdescriptor\u001b[0m\u001b[0;34m.\u001b[0m\u001b[0mdescriptor_type\u001b[0m \u001b[0;34m==\u001b[0m \u001b[0mpyarrow\u001b[0m\u001b[0;34m.\u001b[0m\u001b[0mflight\u001b[0m\u001b[0;34m.\u001b[0m\u001b[0mDescriptorType\u001b[0m\u001b[0;34m.\u001b[0m\u001b[0mPATH\u001b[0m\u001b[0;34m:\u001b[0m\u001b[0;34m\u001b[0m\u001b[0;34m\u001b[0m\u001b[0m\n",
      "\u001b[0;32m~/.miniconda/envs/ariann/lib/python3.8/site-packages/pyarrow/_flight.pyx\u001b[0m in \u001b[0;36mlist_flights\u001b[0;34m()\u001b[0m\n",
      "\u001b[0;32m~/.miniconda/envs/ariann/lib/python3.8/site-packages/pyarrow/_flight.pyx\u001b[0m in \u001b[0;36mpyarrow._flight.check_flight_status\u001b[0;34m()\u001b[0m\n",
      "\u001b[0;31mFlightUnavailableError\u001b[0m: gRPC returned unavailable error, with message: failed to connect to all addresses"
     ]
    }
   ],
   "source": [
    "list_flights({}, client)"
   ]
  },
  {
   "cell_type": "code",
   "execution_count": 78,
   "metadata": {},
   "outputs": [],
   "source": [
    "import pandas as pd\n",
    "import numpy as np\n",
    "import pyarrow as pa\n",
    "import struct\n",
    "import json"
   ]
  },
  {
   "cell_type": "code",
   "execution_count": 10,
   "metadata": {},
   "outputs": [
    {
     "name": "stdout",
     "output_type": "stream",
     "text": [
      "[[189  97 145 ... 101  36 110]]\n",
      "1000000\n"
     ]
    }
   ],
   "source": [
    "n = np.random.randint(255, size=(1, 1_000_000), dtype=np.uint8)\n",
    "print(n)\n",
    "print(n.nbytes)"
   ]
  },
  {
   "cell_type": "code",
   "execution_count": 11,
   "metadata": {},
   "outputs": [
    {
     "name": "stdout",
     "output_type": "stream",
     "text": [
      "   0       1       2       3       4       5       6       7       8       \\\n",
      "0     189      97     145     119      95     138     130     148     186   \n",
      "\n",
      "   9       ...  999990  999991  999992  999993  999994  999995  999996  \\\n",
      "0     224  ...      28      66     132      90     178     245     122   \n",
      "\n",
      "   999997  999998  999999  \n",
      "0     101      36     110  \n",
      "\n",
      "[1 rows x 1000000 columns]\n",
      "[[189  97 145 ... 101  36 110]]\n"
     ]
    }
   ],
   "source": [
    "d = pd.DataFrame(n)\n",
    "print(d.head())\n",
    "print(np.asarray(d))"
   ]
  },
  {
   "cell_type": "code",
   "execution_count": 12,
   "metadata": {},
   "outputs": [],
   "source": [
    "# a = pyarrow.array(n)\n",
    "# a"
   ]
  },
  {
   "cell_type": "code",
   "execution_count": 13,
   "metadata": {},
   "outputs": [],
   "source": [
    "# t = pyarrow.Table.from_pandas(d)\n",
    "# # t = pyarrow.Tensor.from_numpy(n)\n",
    "# # print(t)\n",
    "# print(t.nbytes)"
   ]
  },
  {
   "cell_type": "code",
   "execution_count": 14,
   "metadata": {},
   "outputs": [],
   "source": [
    "# writer, _ = client.do_put(\n",
    "#         pyarrow.flight.FlightDescriptor.for_path(\"/hee\"), t.schema)\n",
    "\n",
    "# # writer, _ = client.do_put(\n",
    "# #         pyarrow.flight.FlightDescriptor.for_path(\"/hee\"), schema=pa.schema([(\"tensor\", pa.uint8())]))\n",
    "\n",
    "# print(writer)"
   ]
  },
  {
   "cell_type": "code",
   "execution_count": 15,
   "metadata": {},
   "outputs": [],
   "source": [
    "# writer.write_table(t)\n",
    "# writer.close()"
   ]
  },
  {
   "cell_type": "code",
   "execution_count": 16,
   "metadata": {},
   "outputs": [],
   "source": [
    "# writer_2, _ = client.do_put(\n",
    "#         pyarrow.flight.FlightDescriptor.for_command(\"feed_crypto_store_fssb\"), t.schema)"
   ]
  },
  {
   "cell_type": "code",
   "execution_count": 17,
   "metadata": {},
   "outputs": [],
   "source": [
    "# writer_2.write_table(t)\n",
    "# writer_2.close()"
   ]
  },
  {
   "cell_type": "code",
   "execution_count": 18,
   "metadata": {},
   "outputs": [],
   "source": [
    "# writer_2, _ = client.do_put(\n",
    "#         pyarrow.flight.FlightDescriptor.for_command(\"feed_crypto_store_fssb\"), t.schema)\n",
    "# # writer_2.write_batch(pa.record_batch(pa.serialize(n).to_buffer())\n",
    "# writer_2.close()"
   ]
  },
  {
   "cell_type": "code",
   "execution_count": 19,
   "metadata": {},
   "outputs": [
    {
     "data": {
      "text/plain": [
       "<pyarrow.lib.SerializedPyObject at 0x7fc689dae4a0>"
      ]
     },
     "execution_count": 19,
     "metadata": {},
     "output_type": "execute_result"
    }
   ],
   "source": [
    "sn = pa.serialize(n)\n",
    "sn"
   ]
  },
  {
   "cell_type": "code",
   "execution_count": 83,
   "metadata": {
    "scrolled": false
   },
   "outputs": [
    {
     "name": "stdout",
     "output_type": "stream",
     "text": [
      "1000776\n",
      "<class 'pyarrow.lib.BinaryArray'>\n"
     ]
    }
   ],
   "source": [
    "a = pa.array([pa.serialize(n).to_buffer().to_pybytes()])\n",
    "print(a.nbytes)\n",
    "print(type(a))"
   ]
  },
  {
   "cell_type": "code",
   "execution_count": 88,
   "metadata": {},
   "outputs": [
    {
     "data": {
      "text/plain": [
       "pyarrow.RecordBatch\n",
       ": binary"
      ]
     },
     "execution_count": 88,
     "metadata": {},
     "output_type": "execute_result"
    }
   ],
   "source": [
    "b = json.dumps({\"message_dict\": 0}).encode(\"utf-8\")\n",
    "r = pa.RecordBatch.from_arrays([pa.array([b])], names=[\"\"])\n",
    "r"
   ]
  },
  {
   "cell_type": "code",
   "execution_count": 80,
   "metadata": {
    "scrolled": true
   },
   "outputs": [
    {
     "data": {
      "text/plain": [
       "pyarrow.RecordBatch\n",
       ": int64"
      ]
     },
     "execution_count": 80,
     "metadata": {},
     "output_type": "execute_result"
    }
   ],
   "source": [
    "# r = pa.RecordBatch.from_arrays([a], names=[\"\"])\n",
    "# r"
   ]
  },
  {
   "cell_type": "code",
   "execution_count": 97,
   "metadata": {},
   "outputs": [],
   "source": [
    "writer_2, reader = client.do_put(\n",
    "        pyarrow.flight.FlightDescriptor.for_command(\"feed_crypto_store_fssb\"), r.schema)"
   ]
  },
  {
   "cell_type": "code",
   "execution_count": 98,
   "metadata": {
    "scrolled": true
   },
   "outputs": [
    {
     "name": "stdout",
     "output_type": "stream",
     "text": [
      "<class 'bytes'>\n",
      "b'\\x01\\x00\\x00\\x00\\x00\\x00\\x00\\x00'\n"
     ]
    }
   ],
   "source": [
    "# metadata = struct.pack('<i', 1)\n",
    "# writer_2.write_with_metadata(r, metadata)\n",
    "writer_2.write_batch(r)\n",
    "response_buf = reader.read().to_pybytes()\n",
    "print(type(response_buf))\n",
    "print(response_buf)\n",
    "writer_2.close()\n",
    "\n",
    "# print(type(response_buf))\n",
    "# i, = struct.unpack('<i', response_buf.to_pybytes())\n",
    "# i"
   ]
  },
  {
   "cell_type": "code",
   "execution_count": 26,
   "metadata": {},
   "outputs": [
    {
     "name": "stdout",
     "output_type": "stream",
     "text": [
      "None\n"
     ]
    }
   ],
   "source": [
    "a = reader\n",
    "a\n",
    "print(a.read())"
   ]
  },
  {
   "cell_type": "code",
   "execution_count": 27,
   "metadata": {},
   "outputs": [
    {
     "ename": "FlightInternalError",
     "evalue": "Could not write record batch to stream",
     "output_type": "error",
     "traceback": [
      "\u001b[0;31m---------------------------------------------------------------------------\u001b[0m",
      "\u001b[0;31mFlightInternalError\u001b[0m                       Traceback (most recent call last)",
      "\u001b[0;32m<ipython-input-27-47451d85e2f4>\u001b[0m in \u001b[0;36m<module>\u001b[0;34m\u001b[0m\n\u001b[0;32m----> 1\u001b[0;31m \u001b[0mwriter_2\u001b[0m\u001b[0;34m.\u001b[0m\u001b[0mwrite_batch\u001b[0m\u001b[0;34m(\u001b[0m\u001b[0mr\u001b[0m\u001b[0;34m)\u001b[0m\u001b[0;34m\u001b[0m\u001b[0;34m\u001b[0m\u001b[0m\n\u001b[0m\u001b[1;32m      2\u001b[0m \u001b[0mwriter_2\u001b[0m\u001b[0;34m.\u001b[0m\u001b[0mclose\u001b[0m\u001b[0;34m(\u001b[0m\u001b[0;34m)\u001b[0m\u001b[0;34m\u001b[0m\u001b[0;34m\u001b[0m\u001b[0m\n",
      "\u001b[0;32m~/.miniconda/envs/ariann/lib/python3.8/site-packages/pyarrow/_flight.pyx\u001b[0m in \u001b[0;36mpyarrow._flight.MetadataRecordBatchWriter.write_batch\u001b[0;34m()\u001b[0m\n",
      "\u001b[0;32m~/.miniconda/envs/ariann/lib/python3.8/site-packages/pyarrow/_flight.pyx\u001b[0m in \u001b[0;36mpyarrow._flight.check_flight_status\u001b[0;34m()\u001b[0m\n",
      "\u001b[0;31mFlightInternalError\u001b[0m: Could not write record batch to stream"
     ]
    }
   ],
   "source": [
    "writer_2.write_batch(r)\n",
    "writer_2.close()"
   ]
  },
  {
   "cell_type": "code",
   "execution_count": null,
   "metadata": {},
   "outputs": [],
   "source": [
    "r"
   ]
  },
  {
   "cell_type": "code",
   "execution_count": null,
   "metadata": {
    "scrolled": true
   },
   "outputs": [],
   "source": [
    "r[0].nbytes"
   ]
  },
  {
   "cell_type": "code",
   "execution_count": null,
   "metadata": {},
   "outputs": [],
   "source": [
    "r[0].buffers()"
   ]
  },
  {
   "cell_type": "code",
   "execution_count": null,
   "metadata": {},
   "outputs": [],
   "source": [
    "r[0].buffers()[1].size"
   ]
  },
  {
   "cell_type": "code",
   "execution_count": null,
   "metadata": {},
   "outputs": [],
   "source": [
    "r[0].buffers()[2].size"
   ]
  },
  {
   "cell_type": "code",
   "execution_count": null,
   "metadata": {},
   "outputs": [],
   "source": [
    "nn = pa.deserialize(r[0].buffers()[2])"
   ]
  },
  {
   "cell_type": "code",
   "execution_count": null,
   "metadata": {},
   "outputs": [],
   "source": [
    "type(nn)"
   ]
  },
  {
   "cell_type": "code",
   "execution_count": null,
   "metadata": {},
   "outputs": [],
   "source": [
    "nn.size"
   ]
  },
  {
   "cell_type": "code",
   "execution_count": null,
   "metadata": {},
   "outputs": [],
   "source": []
  },
  {
   "cell_type": "code",
   "execution_count": null,
   "metadata": {},
   "outputs": [],
   "source": [
    "r[0])"
   ]
  },
  {
   "cell_type": "code",
   "execution_count": null,
   "metadata": {},
   "outputs": [],
   "source": [
    "# batch = pa.record_batch(pa.array(sn.to_buffer()))\n",
    "# batch"
   ]
  },
  {
   "cell_type": "code",
   "execution_count": null,
   "metadata": {},
   "outputs": [],
   "source": [
    "buffer = pa.serialize(n).to_buffer()\n",
    "type(buffer)"
   ]
  },
  {
   "cell_type": "code",
   "execution_count": null,
   "metadata": {},
   "outputs": [],
   "source": [
    "stream = pa.input_stream(buffer)\n",
    "print(stream)\n",
    "print(stream.read(2))"
   ]
  },
  {
   "cell_type": "code",
   "execution_count": null,
   "metadata": {},
   "outputs": [],
   "source": [
    "pa.ipc.RecordBatchFileReader(stream)"
   ]
  }
 ],
 "metadata": {
  "kernelspec": {
   "display_name": "Python 3.8.5 64-bit ('ariann': conda)",
   "language": "python",
   "name": "python38564bitariannconda407a02cfdfe64cc2a67215b7d5297e73"
  },
  "language_info": {
   "codemirror_mode": {
    "name": "ipython",
    "version": 3
   },
   "file_extension": ".py",
   "mimetype": "text/x-python",
   "name": "python",
   "nbconvert_exporter": "python",
   "pygments_lexer": "ipython3",
   "version": "3.8.5"
  }
 },
 "nbformat": 4,
 "nbformat_minor": 4
}
